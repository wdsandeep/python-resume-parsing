{
 "cells": [
  {
   "cell_type": "code",
   "execution_count": 3,
   "id": "2bd18364",
   "metadata": {},
   "outputs": [],
   "source": [
    "import spacy #nlp\n",
    "import pdfminer #pdf2txt\n",
    "import re #regex\n",
    "import os #file manipulation\n",
    "import pandas as pd #csv - tabular format"
   ]
  },
  {
   "cell_type": "code",
   "execution_count": 4,
   "id": "fab99b7a",
   "metadata": {},
   "outputs": [],
   "source": [
    "import pdf2txt"
   ]
  },
  {
   "cell_type": "code",
   "execution_count": 5,
   "id": "60704c06",
   "metadata": {},
   "outputs": [],
   "source": [
    "def convert_pdf(f):\n",
    "    output_filename = os.path.basename(os.path.splitext(f)[0] + \".txt\" )\n",
    "    output_filepath = os.path.join(\"output/txt/\", output_filename)\n",
    "    pdf2txt.main(args=[f, \"--outfile\", output_filepath])\n",
    "    print (output_filepath + \" saved successfully!!!\")\n",
    "    return open(output_filepath, encoding='utf8').read()"
   ]
  },
  {
   "cell_type": "code",
   "execution_count": 6,
   "id": "7a432f89",
   "metadata": {},
   "outputs": [],
   "source": [
    "nlp = spacy.load(\"en_core_web_sm\")"
   ]
  },
  {
   "cell_type": "code",
   "execution_count": 17,
   "id": "d57b0f5e",
   "metadata": {},
   "outputs": [],
   "source": [
    "result_dict = { 'name': [], 'phone': [], 'email': [], 'skills': []  }\n",
    "names = []\n",
    "phones = []\n",
    "emails = []\n",
    "skills = []"
   ]
  },
  {
   "cell_type": "code",
   "execution_count": 18,
   "id": "5bf23555",
   "metadata": {},
   "outputs": [],
   "source": [
    "def parse_content(text):\n",
    "    skillset = re.compile(\"python|java|sql|hadoop|tableau|modeling|Texturing|lighting|rendering|visualizer|animation|v-ray|indesign|autocad|aftereffects|photoshop|interior\")\n",
    "    phone_num = re.compile(\n",
    "        \"(\\d{3}[-\\.\\s]??\\d{3}[-\\.\\s]??\\d{4}|\\(\\d{3}\\)\\s*\\d{3}[-\\.\\s]??\\d{4}|\\d{3}[-\\.\\s]??\\d{4})\"\n",
    "    )\n",
    "    doc = nlp(text)\n",
    "    name = [entity.text for entity in doc.ents if entity.label_ == \"PERSON\"][0]\n",
    "    print(name)\n",
    "    email = [word for word in doc if word.like_email == True][0]\n",
    "    print(email)\n",
    "    phone = str(re.findall(phone_num, text.lower()))\n",
    "    skills_list = re.findall(skillset, text.lower())\n",
    "    unique_skills_list = str(set(skills_list))\n",
    "    names.append(name)\n",
    "    emails.append(email)\n",
    "    phones.append(phone)\n",
    "    skills.append(unique_skills_list)\n",
    "    print(\"Extraction completed successfully!!!\")"
   ]
  },
  {
   "cell_type": "code",
   "execution_count": 19,
   "id": "11099fde",
   "metadata": {},
   "outputs": [
    {
     "name": "stdout",
     "output_type": "stream",
     "text": [
      "Reading.... 1632382568_Shashi_Bhushan_Kumar_Resume.pdf\n",
      "output/txt/1632382568_Shashi_Bhushan_Kumar_Resume.txt saved successfully!!!\n",
      "Bhushan Kumar\n",
      "shashi.3dart@gmail.com\n",
      "Extraction completed successfully!!!\n",
      "Reading.... 1632428700_Resume.pdf\n",
      "output/txt/1632428700_Resume.txt saved successfully!!!\n",
      "Email\n",
      "simranchaudhry1008@gmail.com\n",
      "Extraction completed successfully!!!\n",
      "Reading.... 1632448206_RESUME.pdf\n",
      "output/txt/1632448206_RESUME.txt saved successfully!!!\n",
      "Davidson\n",
      "bethanykelmore1@gmail.com\n",
      "Extraction completed successfully!!!\n"
     ]
    }
   ],
   "source": [
    "for file in os.listdir('resumes/'):\n",
    "    if file.endswith('.pdf'):\n",
    "        print(\"Reading.... \"+ file)\n",
    "        txt = convert_pdf(os.path.join('resumes/', file))\n",
    "        parse_content(txt)"
   ]
  },
  {
   "cell_type": "code",
   "execution_count": 27,
   "id": "7991dfd4",
   "metadata": {},
   "outputs": [],
   "source": [
    "result_dict['name'] = names\n",
    "result_dict['phone'] = phones\n",
    "result_dict['email'] = emails\n",
    "result_dict['skills'] = skills"
   ]
  },
  {
   "cell_type": "code",
   "execution_count": 25,
   "id": "19b72c7c",
   "metadata": {},
   "outputs": [
    {
     "data": {
      "text/html": [
       "<div>\n",
       "<style scoped>\n",
       "    .dataframe tbody tr th:only-of-type {\n",
       "        vertical-align: middle;\n",
       "    }\n",
       "\n",
       "    .dataframe tbody tr th {\n",
       "        vertical-align: top;\n",
       "    }\n",
       "\n",
       "    .dataframe thead th {\n",
       "        text-align: right;\n",
       "    }\n",
       "</style>\n",
       "<table border=\"1\" class=\"dataframe\">\n",
       "  <thead>\n",
       "    <tr style=\"text-align: right;\">\n",
       "      <th></th>\n",
       "      <th>name</th>\n",
       "      <th>phone</th>\n",
       "      <th>email</th>\n",
       "      <th>skills</th>\n",
       "    </tr>\n",
       "  </thead>\n",
       "  <tbody>\n",
       "    <tr>\n",
       "      <th>0</th>\n",
       "      <td>Bhushan Kumar</td>\n",
       "      <td>['7610802894']</td>\n",
       "      <td>shashi.3dart@gmail.com</td>\n",
       "      <td>{'visualizer', 'rendering', 'photoshop', 'auto...</td>\n",
       "    </tr>\n",
       "    <tr>\n",
       "      <th>1</th>\n",
       "      <td>Email</td>\n",
       "      <td>['7506837636']</td>\n",
       "      <td>simranchaudhry1008@gmail.com</td>\n",
       "      <td>{'aftereffects', 'photoshop', 'autocad', 'inte...</td>\n",
       "    </tr>\n",
       "    <tr>\n",
       "      <th>2</th>\n",
       "      <td>Davidson</td>\n",
       "      <td>['334.504.4644', '015-2019', '010-2014', '014-...</td>\n",
       "      <td>bethanykelmore1@gmail.com</td>\n",
       "      <td>{'interior'}</td>\n",
       "    </tr>\n",
       "  </tbody>\n",
       "</table>\n",
       "</div>"
      ],
      "text/plain": [
       "            name                                              phone  \\\n",
       "0  Bhushan Kumar                                     ['7610802894']   \n",
       "1          Email                                     ['7506837636']   \n",
       "2       Davidson  ['334.504.4644', '015-2019', '010-2014', '014-...   \n",
       "\n",
       "                          email  \\\n",
       "0        shashi.3dart@gmail.com   \n",
       "1  simranchaudhry1008@gmail.com   \n",
       "2     bethanykelmore1@gmail.com   \n",
       "\n",
       "                                              skills  \n",
       "0  {'visualizer', 'rendering', 'photoshop', 'auto...  \n",
       "1  {'aftereffects', 'photoshop', 'autocad', 'inte...  \n",
       "2                                       {'interior'}  "
      ]
     },
     "execution_count": 25,
     "metadata": {},
     "output_type": "execute_result"
    }
   ],
   "source": [
    "result_df = pd.DataFrame(result_dict)\n",
    "result_df"
   ]
  },
  {
   "cell_type": "code",
   "execution_count": 26,
   "id": "9ef53c27",
   "metadata": {},
   "outputs": [],
   "source": [
    "result_df.to_csv('output/csv/parsed_resume.csv')"
   ]
  },
  {
   "cell_type": "code",
   "execution_count": null,
   "id": "b42a1f5b",
   "metadata": {},
   "outputs": [],
   "source": []
  }
 ],
 "metadata": {
  "kernelspec": {
   "display_name": "Python 3 (ipykernel)",
   "language": "python",
   "name": "python3"
  },
  "language_info": {
   "codemirror_mode": {
    "name": "ipython",
    "version": 3
   },
   "file_extension": ".py",
   "mimetype": "text/x-python",
   "name": "python",
   "nbconvert_exporter": "python",
   "pygments_lexer": "ipython3",
   "version": "3.8.9"
  }
 },
 "nbformat": 4,
 "nbformat_minor": 5
}
